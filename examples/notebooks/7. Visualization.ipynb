{
 "cells": [
  {
   "cell_type": "code",
   "execution_count": 15,
   "metadata": {},
   "outputs": [],
   "source": [
    "import sys\n",
    "sys.path.insert(0,'../..')\n",
    "from g4l.models import ContextTree\n",
    "import g4l.display as dsp\n",
    "import numpy as np"
   ]
  },
  {
   "cell_type": "code",
   "execution_count": 16,
   "metadata": {},
   "outputs": [
    {
     "data": {
      "text/plain": [
       "'000 1 10 100'"
      ]
     },
     "execution_count": 16,
     "metadata": {},
     "output_type": "execute_result"
    }
   ],
   "source": [
    "t = ContextTree.load_from_file('../../fixtures/2.tree')\n",
    "t.to_str(reverse=False)"
   ]
  },
  {
   "cell_type": "code",
   "execution_count": 17,
   "metadata": {},
   "outputs": [
    {
     "name": "stdout",
     "output_type": "stream",
     "text": [
      "\n",
      "         /-000\n",
      "      /-|\n",
      "   /-|   \\-100\n",
      "  |  |\n",
      "--|   \\-10\n",
      "  |\n",
      "   \\-1\n"
     ]
    }
   ],
   "source": [
    "print(t.to_ete())"
   ]
  },
  {
   "cell_type": "code",
   "execution_count": 18,
   "metadata": {},
   "outputs": [
    {
     "data": {
      "text/html": [
       "<div class=\"toyplot\" id=\"tc29028f489fb475aba911922e3bc76cd\" style=\"text-align:center\"><svg class=\"toyplot-canvas-Canvas\" xmlns:toyplot=\"http://www.sandia.gov/toyplot\" xmlns:xlink=\"http://www.w3.org/1999/xlink\" xmlns=\"http://www.w3.org/2000/svg\" width=\"300.0px\" height=\"350.0px\" viewBox=\"0 0 300.0 350.0\" preserveAspectRatio=\"xMidYMid meet\" style=\"background-color:transparent;border-color:#292724;border-style:none;border-width:1.0;fill:rgb(16.1%,15.3%,14.1%);fill-opacity:1.0;font-family:Helvetica;font-size:12px;opacity:1.0;stroke:rgb(16.1%,15.3%,14.1%);stroke-opacity:1.0;stroke-width:1.0\" id=\"t15895f8ebade49bc8f5dd208aaa7a6e0\"><g class=\"toyplot-coordinates-Cartesian\" id=\"t8ca31ab030814c948506ce7bd23951ac\"><clipPath id=\"t1393941b55f44c92818fb6fa37cb294c\"><rect x=\"30.0\" y=\"30.0\" width=\"240.0\" height=\"290.0\"></rect></clipPath><g clip-path=\"url(#t1393941b55f44c92818fb6fa37cb294c)\"><g class=\"toytree-mark-Toytree\" id=\"t408074bdfd5b4592a9a093677e46f8aa\"><g class=\"toytree-Edges\" style=\"fill:none;stroke:rgb(14.9%,14.9%,14.9%);stroke-linecap:round;stroke-opacity:1;stroke-width:2\"><path d=\"M 250.0 127.7 L 196.7 193.9\" id=\"6,5\"></path><path d=\"M 196.7 193.9 L 143.3 250.7\" id=\"5,4\"></path><path d=\"M 250.0 127.7 L 196.7 61.4\" id=\"6,3\"></path><path d=\"M 196.7 193.9 L 143.3 137.1\" id=\"5,2\"></path><path d=\"M 143.3 250.7 L 90.0 212.9\" id=\"4,1\"></path><path d=\"M 143.3 250.7 L 90.0 288.6\" id=\"4,0\"></path></g><g class=\"toytree-Nodes\" style=\"fill:rgb(0%,0%,0%);fill-opacity:1.0;stroke:rgb(0%,0%,0%);stroke-opacity:1.0;stroke-width:1.5\"><g id=\"node-0\" transform=\"translate(90.018,288.554)\"><circle r=\"0.0\"></circle></g><g id=\"node-1\" transform=\"translate(90.018,212.851)\"><circle r=\"0.0\"></circle></g><g id=\"node-2\" transform=\"translate(143.345,137.149)\"><circle r=\"0.0\"></circle></g><g id=\"node-3\" transform=\"translate(196.673,61.446)\"><circle r=\"0.0\"></circle></g><g id=\"node-4\" transform=\"translate(143.345,250.703)\"><circle r=\"3.0\"></circle></g><g id=\"node-5\" transform=\"translate(196.673,193.926)\"><circle r=\"3.0\"></circle></g><g id=\"node-6\" transform=\"translate(250.000,127.686)\"><circle r=\"0.0\"></circle></g></g><g class=\"toytree-TipLabels\" style=\"fill:rgb(14.9%,14.9%,14.9%);fill-opacity:1.0;font-family:helvetica;font-size:11px;font-weight:normal;stroke:none;white-space:pre\"><g transform=\"translate(90.02,288.55)rotate(0)\"><text x=\"-33.35\" y=\"2.81\" style=\"\">100</text></g><g transform=\"translate(90.02,212.85)rotate(0)\"><text x=\"-33.35\" y=\"2.81\" style=\"\">000</text></g><g transform=\"translate(143.35,137.15)rotate(0)\"><text x=\"-27.23\" y=\"2.81\" style=\"\">10</text></g><g transform=\"translate(196.67,61.45)rotate(0)\"><text x=\"-21.12\" y=\"2.81\" style=\"\">1</text></g></g></g></g></g></svg><div class=\"toyplot-behavior\"><script>(function()\n",
       "{\n",
       "var modules={};\n",
       "})();</script></div></div>"
      ]
     },
     "metadata": {},
     "output_type": "display_data"
    }
   ],
   "source": [
    "dsp.toytree(t, layout='l')"
   ]
  },
  {
   "cell_type": "code",
   "execution_count": null,
   "metadata": {},
   "outputs": [],
   "source": []
  },
  {
   "cell_type": "code",
   "execution_count": null,
   "metadata": {},
   "outputs": [],
   "source": []
  }
 ],
 "metadata": {
  "kernelspec": {
   "display_name": "Python 3",
   "language": "python",
   "name": "python3"
  },
  "language_info": {
   "codemirror_mode": {
    "name": "ipython",
    "version": 3
   },
   "file_extension": ".py",
   "mimetype": "text/x-python",
   "name": "python",
   "nbconvert_exporter": "python",
   "pygments_lexer": "ipython3",
   "version": "3.8.3"
  }
 },
 "nbformat": 4,
 "nbformat_minor": 4
}
