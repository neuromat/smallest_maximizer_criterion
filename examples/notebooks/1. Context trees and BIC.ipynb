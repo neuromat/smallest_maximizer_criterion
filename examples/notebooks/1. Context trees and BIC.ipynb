{
 "cells": [
  {
   "cell_type": "markdown",
   "metadata": {},
   "source": [
    "# Estimators"
   ]
  },
  {
   "cell_type": "markdown",
   "metadata": {},
   "source": [
    "### Estimating context trees using CTM/BIC"
   ]
  },
  {
   "cell_type": "code",
   "execution_count": 1,
   "metadata": {},
   "outputs": [],
   "source": [
    "import sys\n",
    "sys.path.insert(0,'../..')\n",
    "from g4l.estimators.bic import BIC\n",
    "from g4l.data import Sample\n",
    "from g4l.bootstrap.resampling import BlockResampling\n",
    "from g4l.bootstrap import Bootstrap\n",
    "import numpy as np"
   ]
  },
  {
   "cell_type": "code",
   "execution_count": 2,
   "metadata": {},
   "outputs": [
    {
     "name": "stdout",
     "output_type": "stream",
     "text": [
      "sample loaded: 1001010100101010101010100101010010101001 ...\n"
     ]
    }
   ],
   "source": [
    "# 1. Create a Sample object\n",
    "sample_file = 'resources/samples/model1_5000_s001.txt'\n",
    "X = Sample(sample_file, [0, 1])\n",
    "print('sample loaded:', X.data[0:40], '...')"
   ]
  },
  {
   "cell_type": "code",
   "execution_count": 6,
   "metadata": {},
   "outputs": [
    {
     "name": "stdout",
     "output_type": "stream",
     "text": [
      "Nodes: 000 1 10 100\n",
      "Log-likelihood: -1658.0061\n",
      "# of contexts: 4\n"
     ]
    }
   ],
   "source": [
    "penalty_constant = 0.08\n",
    "max_depth = 6\n",
    "\n",
    "# 2. Instantiate the estimator\n",
    "bic = BIC(penalty_constant, max_depth)\n",
    "\n",
    "# 3. Estimate model using the loaded sample\n",
    "bic.fit(X)\n",
    "\n",
    "# 4. Collect the estimated model\n",
    "tree = bic.context_tree\n",
    "# TODO: adicionar parâmetro para modificar visualização da string\n",
    "print('Nodes:', tree.to_str())\n",
    "print('Log-likelihood:', round(tree.log_likelihood(), 4))\n",
    "print('# of contexts:', tree.num_contexts())"
   ]
  },
  {
   "cell_type": "code",
   "execution_count": 7,
   "metadata": {},
   "outputs": [
    {
     "data": {
      "text/html": [
       "<div>\n",
       "<style scoped>\n",
       "    .dataframe tbody tr th:only-of-type {\n",
       "        vertical-align: middle;\n",
       "    }\n",
       "\n",
       "    .dataframe tbody tr th {\n",
       "        vertical-align: top;\n",
       "    }\n",
       "\n",
       "    .dataframe thead th {\n",
       "        text-align: right;\n",
       "    }\n",
       "</style>\n",
       "<table border=\"1\" class=\"dataframe\">\n",
       "  <thead>\n",
       "    <tr style=\"text-align: right;\">\n",
       "      <th></th>\n",
       "      <th>node_idx</th>\n",
       "      <th>depth_idx</th>\n",
       "      <th>node</th>\n",
       "      <th>freq</th>\n",
       "      <th>active</th>\n",
       "      <th>depth</th>\n",
       "      <th>parent_idx</th>\n",
       "      <th>likelihood</th>\n",
       "      <th>active_children</th>\n",
       "      <th>num_child_nodes</th>\n",
       "      <th>likelihood_pen</th>\n",
       "      <th>v_node</th>\n",
       "      <th>v_node_sum</th>\n",
       "      <th>indicator</th>\n",
       "      <th>comp_aux</th>\n",
       "    </tr>\n",
       "  </thead>\n",
       "  <tbody>\n",
       "    <tr>\n",
       "      <th>10</th>\n",
       "      <td>10</td>\n",
       "      <td>10</td>\n",
       "      <td>000</td>\n",
       "      <td>147</td>\n",
       "      <td>1</td>\n",
       "      <td>3</td>\n",
       "      <td>4</td>\n",
       "      <td>-79.502509</td>\n",
       "      <td>0.0</td>\n",
       "      <td>2.0</td>\n",
       "      <td>-80.427664</td>\n",
       "      <td>-80.427664</td>\n",
       "      <td>-80.880319</td>\n",
       "      <td>0</td>\n",
       "      <td>False</td>\n",
       "    </tr>\n",
       "    <tr>\n",
       "      <th>1</th>\n",
       "      <td>1</td>\n",
       "      <td>1</td>\n",
       "      <td>1</td>\n",
       "      <td>2114</td>\n",
       "      <td>1</td>\n",
       "      <td>1</td>\n",
       "      <td>0</td>\n",
       "      <td>0.000000</td>\n",
       "      <td>0.0</td>\n",
       "      <td>1.0</td>\n",
       "      <td>-0.925155</td>\n",
       "      <td>-0.925155</td>\n",
       "      <td>-0.925155</td>\n",
       "      <td>0</td>\n",
       "      <td>False</td>\n",
       "    </tr>\n",
       "    <tr>\n",
       "      <th>3</th>\n",
       "      <td>3</td>\n",
       "      <td>3</td>\n",
       "      <td>10</td>\n",
       "      <td>2113</td>\n",
       "      <td>1</td>\n",
       "      <td>2</td>\n",
       "      <td>2</td>\n",
       "      <td>-1283.125824</td>\n",
       "      <td>0.0</td>\n",
       "      <td>1.0</td>\n",
       "      <td>-1284.050978</td>\n",
       "      <td>-1282.832302</td>\n",
       "      <td>-1282.832302</td>\n",
       "      <td>1</td>\n",
       "      <td>False</td>\n",
       "    </tr>\n",
       "    <tr>\n",
       "      <th>6</th>\n",
       "      <td>6</td>\n",
       "      <td>6</td>\n",
       "      <td>100</td>\n",
       "      <td>625</td>\n",
       "      <td>1</td>\n",
       "      <td>3</td>\n",
       "      <td>4</td>\n",
       "      <td>-295.377750</td>\n",
       "      <td>0.0</td>\n",
       "      <td>1.0</td>\n",
       "      <td>-296.302904</td>\n",
       "      <td>-296.103301</td>\n",
       "      <td>-296.103301</td>\n",
       "      <td>1</td>\n",
       "      <td>False</td>\n",
       "    </tr>\n",
       "  </tbody>\n",
       "</table>\n",
       "</div>"
      ],
      "text/plain": [
       "    node_idx  depth_idx node  freq  active  depth  parent_idx   likelihood  \\\n",
       "10        10         10  000   147       1      3           4   -79.502509   \n",
       "1          1          1    1  2114       1      1           0     0.000000   \n",
       "3          3          3   10  2113       1      2           2 -1283.125824   \n",
       "6          6          6  100   625       1      3           4  -295.377750   \n",
       "\n",
       "    active_children  num_child_nodes  likelihood_pen       v_node  \\\n",
       "10              0.0              2.0      -80.427664   -80.427664   \n",
       "1               0.0              1.0       -0.925155    -0.925155   \n",
       "3               0.0              1.0    -1284.050978 -1282.832302   \n",
       "6               0.0              1.0     -296.302904  -296.103301   \n",
       "\n",
       "     v_node_sum  indicator  comp_aux  \n",
       "10   -80.880319          0     False  \n",
       "1     -0.925155          0     False  \n",
       "3  -1282.832302          1     False  \n",
       "6   -296.103301          1     False  "
      ]
     },
     "execution_count": 7,
     "metadata": {},
     "output_type": "execute_result"
    }
   ],
   "source": [
    "# Complete information regarding nodes are available in the returned object\n",
    "\n",
    "# Listing contexts (Pandas DataFrame object):\n",
    "tree.tree()"
   ]
  },
  {
   "cell_type": "code",
   "execution_count": null,
   "metadata": {},
   "outputs": [],
   "source": []
  },
  {
   "cell_type": "code",
   "execution_count": 9,
   "metadata": {},
   "outputs": [
    {
     "data": {
      "text/html": [
       "<div>\n",
       "<style scoped>\n",
       "    .dataframe tbody tr th:only-of-type {\n",
       "        vertical-align: middle;\n",
       "    }\n",
       "\n",
       "    .dataframe tbody tr th {\n",
       "        vertical-align: top;\n",
       "    }\n",
       "\n",
       "    .dataframe thead th {\n",
       "        text-align: right;\n",
       "    }\n",
       "</style>\n",
       "<table border=\"1\" class=\"dataframe\">\n",
       "  <thead>\n",
       "    <tr style=\"text-align: right;\">\n",
       "      <th></th>\n",
       "      <th>next_symbol</th>\n",
       "      <th>freq</th>\n",
       "      <th>prob</th>\n",
       "      <th>likelihood</th>\n",
       "    </tr>\n",
       "    <tr>\n",
       "      <th>idx</th>\n",
       "      <th></th>\n",
       "      <th></th>\n",
       "      <th></th>\n",
       "      <th></th>\n",
       "    </tr>\n",
       "  </thead>\n",
       "  <tbody>\n",
       "    <tr>\n",
       "      <th>10</th>\n",
       "      <td>0</td>\n",
       "      <td>34</td>\n",
       "      <td>0.231293</td>\n",
       "      <td>-49.778450</td>\n",
       "    </tr>\n",
       "    <tr>\n",
       "      <th>10</th>\n",
       "      <td>1</td>\n",
       "      <td>113</td>\n",
       "      <td>0.768707</td>\n",
       "      <td>-29.724059</td>\n",
       "    </tr>\n",
       "    <tr>\n",
       "      <th>1</th>\n",
       "      <td>0</td>\n",
       "      <td>2114</td>\n",
       "      <td>1.000000</td>\n",
       "      <td>0.000000</td>\n",
       "    </tr>\n",
       "    <tr>\n",
       "      <th>3</th>\n",
       "      <td>0</td>\n",
       "      <td>625</td>\n",
       "      <td>0.295788</td>\n",
       "      <td>-761.320230</td>\n",
       "    </tr>\n",
       "    <tr>\n",
       "      <th>3</th>\n",
       "      <td>1</td>\n",
       "      <td>1488</td>\n",
       "      <td>0.704212</td>\n",
       "      <td>-521.805594</td>\n",
       "    </tr>\n",
       "    <tr>\n",
       "      <th>6</th>\n",
       "      <td>0</td>\n",
       "      <td>113</td>\n",
       "      <td>0.180800</td>\n",
       "      <td>-193.271113</td>\n",
       "    </tr>\n",
       "    <tr>\n",
       "      <th>6</th>\n",
       "      <td>1</td>\n",
       "      <td>512</td>\n",
       "      <td>0.819200</td>\n",
       "      <td>-102.106637</td>\n",
       "    </tr>\n",
       "  </tbody>\n",
       "</table>\n",
       "</div>"
      ],
      "text/plain": [
       "    next_symbol  freq      prob  likelihood\n",
       "idx                                        \n",
       "10            0    34  0.231293  -49.778450\n",
       "10            1   113  0.768707  -29.724059\n",
       "1             0  2114  1.000000    0.000000\n",
       "3             0   625  0.295788 -761.320230\n",
       "3             1  1488  0.704212 -521.805594\n",
       "6             0   113  0.180800 -193.271113\n",
       "6             1   512  0.819200 -102.106637"
      ]
     },
     "execution_count": 9,
     "metadata": {},
     "output_type": "execute_result"
    }
   ],
   "source": [
    "# Transition probabilities associated to the nodes\n",
    "tree.transition_probs.head(10)"
   ]
  },
  {
   "cell_type": "code",
   "execution_count": null,
   "metadata": {},
   "outputs": [],
   "source": []
  },
  {
   "cell_type": "code",
   "execution_count": null,
   "metadata": {},
   "outputs": [],
   "source": []
  },
  {
   "cell_type": "code",
   "execution_count": null,
   "metadata": {},
   "outputs": [],
   "source": []
  },
  {
   "cell_type": "code",
   "execution_count": null,
   "metadata": {},
   "outputs": [],
   "source": []
  }
 ],
 "metadata": {
  "kernelspec": {
   "display_name": "Python 3",
   "language": "python",
   "name": "python3"
  },
  "language_info": {
   "codemirror_mode": {
    "name": "ipython",
    "version": 3
   },
   "file_extension": ".py",
   "mimetype": "text/x-python",
   "name": "python",
   "nbconvert_exporter": "python",
   "pygments_lexer": "ipython3",
   "version": "3.8.3"
  }
 },
 "nbformat": 4,
 "nbformat_minor": 4
}
