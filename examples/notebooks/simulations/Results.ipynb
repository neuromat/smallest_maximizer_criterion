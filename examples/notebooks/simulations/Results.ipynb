{
 "cells": [
  {
   "cell_type": "code",
   "execution_count": 12,
   "metadata": {},
   "outputs": [],
   "source": [
    "import sys\n",
    "import os\n",
    "import pandas as pd\n",
    "import numpy as np\n",
    "import matplotlib.pyplot as plt\n",
    "sys.path.insert(0, os.path.abspath('../../..'))\n",
    "from g4l.estimators import BIC\n",
    "from g4l.estimators import SMC\n",
    "import g4l.display\n",
    "from g4l.estimators import Prune\n",
    "from g4l.models import ContextTree\n",
    "from g4l.models import integrity\n",
    "from g4l.data import Sample"
   ]
  },
  {
   "cell_type": "markdown",
   "metadata": {},
   "source": [
    "## Comparing the ocurrence of optimal tree among estimated champion trees"
   ]
  },
  {
   "cell_type": "code",
   "execution_count": 127,
   "metadata": {},
   "outputs": [],
   "source": [
    "file_template = 'data/%s_%s.csv'\n",
    "sizes = [5000, 10000, 20000]\n",
    "correct_model = '000 1 10 100'\n",
    "\n",
    "def get_results(model_name, size):\n",
    "    df = pd.read_csv(file_template % (model_name, str(size)))    \n",
    "    df.tree = df.tree.astype(str).map(lambda t: ' '.join(sorted(t.split())))\n",
    "    return df\n",
    "\n",
    "def correct_found(model_name, sz):\n",
    "    xx = get_results(model_name, str(sz))\n",
    "    return len(xx[(xx.tree==correct_model)])\n",
    "\n",
    "def correct_detected(model_name, sz):\n",
    "    xx = get_results(model_name, str(sz))\n",
    "    return len(xx[(xx.tree==correct_model) & (xx.opt == 1)])\n",
    "\n",
    "def results_table(mdl):\n",
    "    df = pd.DataFrame(columns= ['model', 'sample_size', 'exists', 'identified'])\n",
    "    for s in sizes:\n",
    "        df.loc[len(df)] = [mdl, s, correct_found(mdl, s), correct_detected(mdl, s)]\n",
    "    return df\n",
    "alpha = 1.0\n",
    "def plot_table(df):\n",
    "    plt.figure()\n",
    "    plt.bar(df.sample_size, df.exists, width=1000, label='existing')\n",
    "    plt.bar(df.sample_size, df.identified, width=1000, label='identified', alpha=alpha)\n",
    "    plt.ylabel('occurrences')\n",
    "    plt.title('Correct tree occurrence and identification')\n",
    "    plt.xticks([5000, 10000, 20000])\n",
    "    plt.show()\n",
    "    \n",
    "def plot_table2(df, df2):\n",
    "    plt.figure(figsize=(18, 6))\n",
    "    plt.subplot('121')\n",
    "    plt.bar(df.sample_size, df.exists, width=1000, label='existing')\n",
    "    plt.bar(df.sample_size, df.identified, width=1000, label='identified', alpha=alpha)\n",
    "    plt.ylabel('occurrences')\n",
    "    plt.title('Correct tree occurrence and identification')\n",
    "    plt.xticks([5000, 10000, 20000])\n",
    "\n",
    "    plt.subplot('122')\n",
    "    plt.bar(df2.sample_size, df2.exists, width=1000, label='existing')\n",
    "    plt.bar(df2.sample_size, df2.identified, width=1000, label='identified', alpha=alpha)\n",
    "    plt.ylabel('occurrences')\n",
    "    plt.title('Correct tree occurrence and identification')\n",
    "    plt.xticks([5000, 10000, 20000])\n",
    "    plt.show()\n"
   ]
  },
  {
   "cell_type": "code",
   "execution_count": 119,
   "metadata": {},
   "outputs": [],
   "source": [
    "## Model 1\n",
    "## 'exists' -> times that the correct tree was found amongst the champion_trees\n",
    "## 'identified' -> times that the correct tree was identified by the procedure"
   ]
  },
  {
   "cell_type": "code",
   "execution_count": 120,
   "metadata": {},
   "outputs": [
    {
     "data": {
      "text/html": [
       "<div>\n",
       "<style scoped>\n",
       "    .dataframe tbody tr th:only-of-type {\n",
       "        vertical-align: middle;\n",
       "    }\n",
       "\n",
       "    .dataframe tbody tr th {\n",
       "        vertical-align: top;\n",
       "    }\n",
       "\n",
       "    .dataframe thead th {\n",
       "        text-align: right;\n",
       "    }\n",
       "</style>\n",
       "<table border=\"1\" class=\"dataframe\">\n",
       "  <thead>\n",
       "    <tr style=\"text-align: right;\">\n",
       "      <th></th>\n",
       "      <th>model</th>\n",
       "      <th>sample_size</th>\n",
       "      <th>exists</th>\n",
       "      <th>identified</th>\n",
       "    </tr>\n",
       "  </thead>\n",
       "  <tbody>\n",
       "    <tr>\n",
       "      <th>0</th>\n",
       "      <td>model1</td>\n",
       "      <td>5000</td>\n",
       "      <td>37</td>\n",
       "      <td>23</td>\n",
       "    </tr>\n",
       "    <tr>\n",
       "      <th>1</th>\n",
       "      <td>model1</td>\n",
       "      <td>10000</td>\n",
       "      <td>55</td>\n",
       "      <td>38</td>\n",
       "    </tr>\n",
       "    <tr>\n",
       "      <th>2</th>\n",
       "      <td>model1</td>\n",
       "      <td>20000</td>\n",
       "      <td>89</td>\n",
       "      <td>80</td>\n",
       "    </tr>\n",
       "  </tbody>\n",
       "</table>\n",
       "</div>"
      ],
      "text/plain": [
       "    model sample_size exists identified\n",
       "0  model1        5000     37         23\n",
       "1  model1       10000     55         38\n",
       "2  model1       20000     89         80"
      ]
     },
     "execution_count": 120,
     "metadata": {},
     "output_type": "execute_result"
    }
   ],
   "source": [
    "model1 = results_table('model1')\n",
    "model1"
   ]
  },
  {
   "cell_type": "code",
   "execution_count": 121,
   "metadata": {},
   "outputs": [
    {
     "data": {
      "image/png": "[encoded data removed]",
      "text/plain": [
       "<Figure size 432x288 with 1 Axes>"
      ]
     },
     "metadata": {
      "needs_background": "light"
     },
     "output_type": "display_data"
    }
   ],
   "source": [
    "plot_table(model1)"
   ]
  },
  {
   "cell_type": "code",
   "execution_count": 122,
   "metadata": {},
   "outputs": [],
   "source": [
    "## Model 2\n",
    "## 'exists' -> times that the correct tree was found amongst the champion_trees\n",
    "## 'identified' -> times that the correct tree was identified by the procedure"
   ]
  },
  {
   "cell_type": "code",
   "execution_count": 123,
   "metadata": {},
   "outputs": [
    {
     "data": {
      "text/html": [
       "<div>\n",
       "<style scoped>\n",
       "    .dataframe tbody tr th:only-of-type {\n",
       "        vertical-align: middle;\n",
       "    }\n",
       "\n",
       "    .dataframe tbody tr th {\n",
       "        vertical-align: top;\n",
       "    }\n",
       "\n",
       "    .dataframe thead th {\n",
       "        text-align: right;\n",
       "    }\n",
       "</style>\n",
       "<table border=\"1\" class=\"dataframe\">\n",
       "  <thead>\n",
       "    <tr style=\"text-align: right;\">\n",
       "      <th></th>\n",
       "      <th>model</th>\n",
       "      <th>sample_size</th>\n",
       "      <th>exists</th>\n",
       "      <th>identified</th>\n",
       "    </tr>\n",
       "  </thead>\n",
       "  <tbody>\n",
       "    <tr>\n",
       "      <th>0</th>\n",
       "      <td>model2</td>\n",
       "      <td>5000</td>\n",
       "      <td>76</td>\n",
       "      <td>59</td>\n",
       "    </tr>\n",
       "    <tr>\n",
       "      <th>1</th>\n",
       "      <td>model2</td>\n",
       "      <td>10000</td>\n",
       "      <td>92</td>\n",
       "      <td>86</td>\n",
       "    </tr>\n",
       "    <tr>\n",
       "      <th>2</th>\n",
       "      <td>model2</td>\n",
       "      <td>20000</td>\n",
       "      <td>100</td>\n",
       "      <td>98</td>\n",
       "    </tr>\n",
       "  </tbody>\n",
       "</table>\n",
       "</div>"
      ],
      "text/plain": [
       "    model sample_size exists identified\n",
       "0  model2        5000     76         59\n",
       "1  model2       10000     92         86\n",
       "2  model2       20000    100         98"
      ]
     },
     "execution_count": 123,
     "metadata": {},
     "output_type": "execute_result"
    }
   ],
   "source": [
    "model2 = results_table('model2')\n",
    "model2"
   ]
  },
  {
   "cell_type": "code",
   "execution_count": 124,
   "metadata": {},
   "outputs": [
    {
     "data": {
      "image/png": "[encoded data removed]",
      "text/plain": [
       "<Figure size 432x288 with 1 Axes>"
      ]
     },
     "metadata": {
      "needs_background": "light"
     },
     "output_type": "display_data"
    }
   ],
   "source": [
    "plot_table(model2)"
   ]
  },
  {
   "cell_type": "code",
   "execution_count": 128,
   "metadata": {},
   "outputs": [
    {
     "name": "stderr",
     "output_type": "stream",
     "text": [
      "<ipython-input-127-86c64fe561e0>:35: MatplotlibDeprecationWarning: Passing non-integers as three-element position specification is deprecated since 3.3 and will be removed two minor releases later.\n",
      "  plt.subplot('121')\n",
      "<ipython-input-127-86c64fe561e0>:42: MatplotlibDeprecationWarning: Passing non-integers as three-element position specification is deprecated since 3.3 and will be removed two minor releases later.\n",
      "  plt.subplot('122')\n"
     ]
    },
    {
     "data": {
      "image/png": "[encoded data removed]",
      "text/plain": [
       "<Figure size 1296x432 with 2 Axes>"
      ]
     },
     "metadata": {
      "needs_background": "light"
     },
     "output_type": "display_data"
    }
   ],
   "source": [
    "plot_table2(model1, model2)"
   ]
  },
  {
   "cell_type": "code",
   "execution_count": null,
   "metadata": {},
   "outputs": [],
   "source": []
  },
  {
   "cell_type": "code",
   "execution_count": null,
   "metadata": {},
   "outputs": [],
   "source": []
  }
 ],
 "metadata": {
  "kernelspec": {
   "display_name": "Python 3",
   "language": "python",
   "name": "python3"
  },
  "language_info": {
   "codemirror_mode": {
    "name": "ipython",
    "version": 3
   },
   "file_extension": ".py",
   "mimetype": "text/x-python",
   "name": "python",
   "nbconvert_exporter": "python",
   "pygments_lexer": "ipython3",
   "version": "3.8.3"
  }
 },
 "nbformat": 4,
 "nbformat_minor": 4
}
