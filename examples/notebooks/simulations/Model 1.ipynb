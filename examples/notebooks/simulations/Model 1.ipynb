{
 "cells": [
  {
   "cell_type": "code",
   "execution_count": 1,
   "metadata": {},
   "outputs": [],
   "source": [
    "import sys\n",
    "import os\n",
    "import pandas as pd\n",
    "import numpy as np\n",
    "import matplotlib.pyplot as plt\n",
    "sys.path.insert(0, os.path.abspath('../../..'))\n",
    "from g4l.estimators import BIC\n",
    "from g4l.estimators import SMC\n",
    "import g4l.display\n",
    "from g4l.estimators import Prune\n",
    "from g4l.models import ContextTree\n",
    "from g4l.models import integrity\n",
    "from g4l.data import Sample"
   ]
  },
  {
   "cell_type": "markdown",
   "metadata": {},
   "source": [
    "## Comparing the ocurrence of optimal tree among estimated champion trees"
   ]
  },
  {
   "cell_type": "code",
   "execution_count": 4,
   "metadata": {},
   "outputs": [],
   "source": [
    "paths = ['../../simulation_study/instances/r_model1/results']\n",
    "paths = [os.path.abspath(x) for x in paths]\n",
    "methods = ['smc']\n",
    "models = ['model1']\n",
    "sizes = [5000, 10000, 20000]\n",
    "#sizes = [5000]\n",
    "correct_model = '000 1 10 100'\n",
    "\n",
    "def get_results(fld, method, model_name, size):\n",
    "    file = '%s/%s/%s_%s.csv' % (fld, method, model_name, size)\n",
    "    df = pd.read_csv(file)    \n",
    "    df.tree = df.tree.astype(str).map(lambda t: ' '.join(sorted(t.split())))\n",
    "    return df\n",
    "\n",
    "def correct_found_num(fld, model_name, sz):\n",
    "    def correct_found_num2(method):\n",
    "        xx = get_results(fld, method, model_name, sz)\n",
    "        return len(xx[(xx.tree==correct_model) & (xx.opt == 1)])\n",
    "    return correct_found_num2\n",
    "\n",
    "def compare_optimal_tree_occurrence(model_name):\n",
    "    methods2 = [m + '_detec' for m in methods]    \n",
    "    df = pd.DataFrame(columns= ['instance', 'model', 'sample_size'] + methods + methods2)\n",
    "    for fld in paths:           \n",
    "        inst = fld.split('/')[-2]\n",
    "        for size in sizes:\n",
    "            arr = [(get_results(fld, method, model_name, size).tree==correct_model).astype(int).sum() for method in methods]\n",
    "            arr2 = list(map(correct_found_num(fld, model_name, size), methods))\n",
    "            df.loc[len(df)] = ([inst, model_name, size] + arr + arr2)\n",
    "    return df.sort_values(['instance', 'model', 'sample_size'])"
   ]
  },
  {
   "cell_type": "markdown",
   "metadata": {},
   "source": [
    "### Model 1"
   ]
  },
  {
   "cell_type": "code",
   "execution_count": 5,
   "metadata": {},
   "outputs": [
    {
     "data": {
      "image/png": "[encoded data removed]",
      "text/plain": [
       "<Figure size 1584x288 with 1 Axes>"
      ]
     },
     "metadata": {
      "needs_background": "light"
     },
     "output_type": "display_data"
    },
    {
     "data": {
      "text/html": [
       "<div>\n",
       "<style scoped>\n",
       "    .dataframe tbody tr th:only-of-type {\n",
       "        vertical-align: middle;\n",
       "    }\n",
       "\n",
       "    .dataframe tbody tr th {\n",
       "        vertical-align: top;\n",
       "    }\n",
       "\n",
       "    .dataframe thead th {\n",
       "        text-align: right;\n",
       "    }\n",
       "</style>\n",
       "<table border=\"1\" class=\"dataframe\">\n",
       "  <thead>\n",
       "    <tr style=\"text-align: right;\">\n",
       "      <th></th>\n",
       "      <th>instance</th>\n",
       "      <th>model</th>\n",
       "      <th>sample_size</th>\n",
       "      <th>smc</th>\n",
       "      <th>smc_detec</th>\n",
       "    </tr>\n",
       "  </thead>\n",
       "  <tbody>\n",
       "    <tr>\n",
       "      <th>0</th>\n",
       "      <td>r_model1</td>\n",
       "      <td>model1</td>\n",
       "      <td>5000</td>\n",
       "      <td>37</td>\n",
       "      <td>25</td>\n",
       "    </tr>\n",
       "    <tr>\n",
       "      <th>1</th>\n",
       "      <td>r_model1</td>\n",
       "      <td>model1</td>\n",
       "      <td>10000</td>\n",
       "      <td>37</td>\n",
       "      <td>17</td>\n",
       "    </tr>\n",
       "    <tr>\n",
       "      <th>2</th>\n",
       "      <td>r_model1</td>\n",
       "      <td>model1</td>\n",
       "      <td>20000</td>\n",
       "      <td>37</td>\n",
       "      <td>29</td>\n",
       "    </tr>\n",
       "  </tbody>\n",
       "</table>\n",
       "</div>"
      ],
      "text/plain": [
       "   instance   model sample_size smc smc_detec\n",
       "0  r_model1  model1        5000  37        25\n",
       "1  r_model1  model1       10000  37        17\n",
       "2  r_model1  model1       20000  37        29"
      ]
     },
     "execution_count": 5,
     "metadata": {},
     "output_type": "execute_result"
    }
   ],
   "source": [
    "model1 = compare_optimal_tree_occurrence('model1')\n",
    "instances = list(model1.instance.unique())\n",
    "df = model1\n",
    "\n",
    "plt.figure(figsize=(22,4))\n",
    "fld = 'smc'   \n",
    "plt.subplot(1, 2, 1)\n",
    "for instance in instances:    \n",
    "    m = df[df.instance==instance]\n",
    "    plt.plot(m.sample_size, m['smc'], '--', label=instance + ' (among)')\n",
    "    plt.xticks([5000, 10000, 20000])\n",
    "for instance in instances:    \n",
    "    m = df[df.instance==instance]\n",
    "    plt.plot(m.sample_size, m['smc_detec'], label=instance + ' (identified)')\n",
    "    plt.xticks([5000, 10000, 20000])\n",
    "    plt.legend()\n",
    "plt.show()\n",
    "    #m = df[df.instance==instance]\n",
    "m"
   ]
  },
  {
   "cell_type": "code",
   "execution_count": null,
   "metadata": {},
   "outputs": [],
   "source": []
  },
  {
   "cell_type": "code",
   "execution_count": null,
   "metadata": {},
   "outputs": [],
   "source": []
  },
  {
   "cell_type": "code",
   "execution_count": null,
   "metadata": {},
   "outputs": [],
   "source": []
  }
 ],
 "metadata": {
  "kernelspec": {
   "display_name": "Python 3",
   "language": "python",
   "name": "python3"
  },
  "language_info": {
   "codemirror_mode": {
    "name": "ipython",
    "version": 3
   },
   "file_extension": ".py",
   "mimetype": "text/x-python",
   "name": "python",
   "nbconvert_exporter": "python",
   "pygments_lexer": "ipython3",
   "version": "3.8.3"
  }
 },
 "nbformat": 4,
 "nbformat_minor": 4
}
