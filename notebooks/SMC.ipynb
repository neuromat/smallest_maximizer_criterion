{
 "cells": [
  {
   "cell_type": "code",
   "execution_count": 1,
   "metadata": {},
   "outputs": [],
   "source": [
    "# Point to the folder with the results of an SMC \n",
    "#folder = './resources/smc_results'\n",
    "#folder = '/home/arthur/tmp/smc3_ep'\n",
    "#folder = '/home/arthur/Documents/Neuromat/projects/SMC/results/python_pl_compat/bp'\n",
    "folder = '/home/arthur/Documents/Neuromat/projects/SMC/results/python_pl/ep'\n",
    "folder = '/home/arthur/Documents/Neuromat/projects/SMC/results/python/ep'\n",
    "#folder = '/home/arthur/Documents/Neuromat/projects/SMC/results/tmp3/bp'"
   ]
  },
  {
   "cell_type": "code",
   "execution_count": 2,
   "metadata": {},
   "outputs": [
    {
     "name": "stdout",
     "output_type": "stream",
     "text": [
      "Total champion trees:  55 \n",
      "\n"
     ]
    }
   ],
   "source": [
    "import sys\n",
    "sys.path.insert(0,'../..')\n",
    "from g4l.reports.smc import SmcReport\n",
    "import pandas as pd\n",
    "import matplotlib.pyplot as plt\n",
    "pd.set_option('max_colwidth', None)\n",
    "\n",
    "report = SmcReport(folder)\n",
    "report.load_trees()\n",
    "print(\"Total champion trees: \", len(report.champion_trees), '\\n')"
   ]
  },
  {
   "cell_type": "code",
   "execution_count": 3,
   "metadata": {},
   "outputs": [
    {
     "data": {
      "text/html": [
       "<div>\n",
       "<style scoped>\n",
       "    .dataframe tbody tr th:only-of-type {\n",
       "        vertical-align: middle;\n",
       "    }\n",
       "\n",
       "    .dataframe tbody tr th {\n",
       "        vertical-align: top;\n",
       "    }\n",
       "\n",
       "    .dataframe thead th {\n",
       "        text-align: right;\n",
       "    }\n",
       "</style>\n",
       "<table border=\"1\" class=\"dataframe\">\n",
       "  <thead>\n",
       "    <tr style=\"text-align: right;\">\n",
       "      <th></th>\n",
       "      <th>tree</th>\n",
       "      <th>sel</th>\n",
       "    </tr>\n",
       "  </thead>\n",
       "  <tbody>\n",
       "    <tr>\n",
       "      <th>0</th>\n",
       "      <td></td>\n",
       "      <td></td>\n",
       "    </tr>\n",
       "    <tr>\n",
       "      <th>1</th>\n",
       "      <td>00 10 20 30 1 2 3 4</td>\n",
       "      <td></td>\n",
       "    </tr>\n",
       "    <tr>\n",
       "      <th>2</th>\n",
       "      <td>000 100 200 300 10 20 30 1 2 3 4</td>\n",
       "      <td></td>\n",
       "    </tr>\n",
       "    <tr>\n",
       "      <th>3</th>\n",
       "      <td>000 100 200 300 10 20 30 001 201 21 2 3 4</td>\n",
       "      <td></td>\n",
       "    </tr>\n",
       "    <tr>\n",
       "      <th>4</th>\n",
       "      <td>000 100 200 300 010 210 20 30 001 201 21 2 3 4</td>\n",
       "      <td></td>\n",
       "    </tr>\n",
       "    <tr>\n",
       "      <th>5</th>\n",
       "      <td>000 100 200 300 0010 2010 210 20 30 001 201 21 2 3 4</td>\n",
       "      <td></td>\n",
       "    </tr>\n",
       "    <tr>\n",
       "      <th>6</th>\n",
       "      <td>0000 2000 100 200 300 0010 2010 210 20 30 001 201 21 2 3 4</td>\n",
       "      <td>*</td>\n",
       "    </tr>\n",
       "    <tr>\n",
       "      <th>7</th>\n",
       "      <td>0000 2000 100 200 300 0010 2010 0210 1210 3210 4210 20 030 130 330 430 001 201 21 2 3 4</td>\n",
       "      <td></td>\n",
       "    </tr>\n",
       "    <tr>\n",
       "      <th>8</th>\n",
       "      <td>0000 2000 100 200 300 0010 2010 0210 1210 3210 4210 20 030 130 330 430 0001 2001 201 21 2 3 4</td>\n",
       "      <td></td>\n",
       "    </tr>\n",
       "    <tr>\n",
       "      <th>9</th>\n",
       "      <td>0000 2000 100 200 300 0010 2010 0210 1210 3210 4210 20 030 130 330 430 0001 2001 201 21 02 12 32 42 3 4</td>\n",
       "      <td></td>\n",
       "    </tr>\n",
       "  </tbody>\n",
       "</table>\n",
       "</div>"
      ],
      "text/plain": [
       "                                                                                                      tree  \\\n",
       "0                                                                                                            \n",
       "1                                                                                      00 10 20 30 1 2 3 4   \n",
       "2                                                                         000 100 200 300 10 20 30 1 2 3 4   \n",
       "3                                                                000 100 200 300 10 20 30 001 201 21 2 3 4   \n",
       "4                                                           000 100 200 300 010 210 20 30 001 201 21 2 3 4   \n",
       "5                                                     000 100 200 300 0010 2010 210 20 30 001 201 21 2 3 4   \n",
       "6                                               0000 2000 100 200 300 0010 2010 210 20 30 001 201 21 2 3 4   \n",
       "7                  0000 2000 100 200 300 0010 2010 0210 1210 3210 4210 20 030 130 330 430 001 201 21 2 3 4   \n",
       "8            0000 2000 100 200 300 0010 2010 0210 1210 3210 4210 20 030 130 330 430 0001 2001 201 21 2 3 4   \n",
       "9  0000 2000 100 200 300 0010 2010 0210 1210 3210 4210 20 030 130 330 430 0001 2001 201 21 02 12 32 42 3 4   \n",
       "\n",
       "  sel  \n",
       "0      \n",
       "1      \n",
       "2      \n",
       "3      \n",
       "4      \n",
       "5      \n",
       "6   *  \n",
       "7      \n",
       "8      \n",
       "9      "
      ]
     },
     "execution_count": 3,
     "metadata": {},
     "output_type": "execute_result"
    }
   ],
   "source": [
    "n = 10\n",
    "df = report.trees_dataframe(n=n)[['tree']]\n",
    "opt = report.optimal_tree()\n",
    "df['sel'] = ['*' if t.to_str()==opt.to_str() else ' ' for t in list(reversed(report.champion_trees))[:n]]\n",
    "df"
   ]
  },
  {
   "cell_type": "code",
   "execution_count": 4,
   "metadata": {},
   "outputs": [
    {
     "name": "stdout",
     "output_type": "stream",
     "text": [
      "Optimal tree: 0000 2000 100 200 300 0010 2010 210 20 30 001 201 21 2 3 4\n",
      "Num contexts: 16\n"
     ]
    }
   ],
   "source": [
    "print('Optimal tree:', report.optimal_tree().to_str(reverse=True))\n",
    "print('Num contexts:', report.optimal_tree().num_contexts())"
   ]
  },
  {
   "cell_type": "code",
   "execution_count": 8,
   "metadata": {},
   "outputs": [
    {
     "data": {
      "image/png": "[encoded data removed]",
      "text/plain": [
       "<Figure size 1080x432 with 1 Axes>"
      ]
     },
     "metadata": {},
     "output_type": "display_data"
    }
   ],
   "source": [
    "report.draw_tree(report.optimal_tree(), title=\"Optimal tree\", column='symbol')"
   ]
  },
  {
   "cell_type": "code",
   "execution_count": 6,
   "metadata": {},
   "outputs": [
    {
     "data": {
      "image/png": "[encoded data removed]",
      "text/plain": [
       "<Figure size 1080x288 with 1 Axes>"
      ]
     },
     "metadata": {
      "needs_background": "light"
     },
     "output_type": "display_data"
    }
   ],
   "source": [
    "report.draw_likelihoods()"
   ]
  },
  {
   "cell_type": "code",
   "execution_count": 60,
   "metadata": {},
   "outputs": [
    {
     "name": "stderr",
     "output_type": "stream",
     "text": [
      "/home/arthur/anaconda3/envs/smc/lib/python3.8/site-packages/g4l/reports/smc.py:102: YAMLLoadWarning: calling yaml.load() without Loader=... is deprecated, as the default Loader is unsafe. Please read https://msg.pyyaml.org/load for full details.\n",
      "  self.summary = yaml.load(file)\n"
     ]
    }
   ],
   "source": [
    "#report.likelihoods_bloxplot()\n",
    "report.load_summary()"
   ]
  },
  {
   "cell_type": "code",
   "execution_count": 61,
   "metadata": {},
   "outputs": [
    {
     "data": {
      "text/html": [
       "<div>\n",
       "<style scoped>\n",
       "    .dataframe tbody tr th:only-of-type {\n",
       "        vertical-align: middle;\n",
       "    }\n",
       "\n",
       "    .dataframe tbody tr th {\n",
       "        vertical-align: top;\n",
       "    }\n",
       "\n",
       "    .dataframe thead th {\n",
       "        text-align: right;\n",
       "    }\n",
       "</style>\n",
       "<table border=\"1\" class=\"dataframe\">\n",
       "  <thead>\n",
       "    <tr style=\"text-align: right;\">\n",
       "      <th></th>\n",
       "      <th>alpha</th>\n",
       "      <th>df</th>\n",
       "      <th>epsilon</th>\n",
       "      <th>folder</th>\n",
       "      <th>log_file</th>\n",
       "      <th>log_level</th>\n",
       "      <th>max_depth</th>\n",
       "      <th>method</th>\n",
       "      <th>n_sizes</th>\n",
       "      <th>num_cores</th>\n",
       "      <th>penalty_interval</th>\n",
       "      <th>perl_compatible</th>\n",
       "      <th>renewal_point</th>\n",
       "      <th>resamples</th>\n",
       "      <th>sample_path</th>\n",
       "      <th>scan_offset</th>\n",
       "      <th>split</th>\n",
       "    </tr>\n",
       "  </thead>\n",
       "  <tbody>\n",
       "    <tr>\n",
       "      <th>0</th>\n",
       "      <td>0.01</td>\n",
       "      <td>perl</td>\n",
       "      <td>0.01</td>\n",
       "      <td>/home/arthur/Documents/Neuromat/projects/SMC/results/python/ep</td>\n",
       "      <td>None</td>\n",
       "      <td>info</td>\n",
       "      <td>4</td>\n",
       "      <td>bic</td>\n",
       "      <td>0.3</td>\n",
       "      <td>7</td>\n",
       "      <td>0.0</td>\n",
       "      <td>False</td>\n",
       "      <td>4</td>\n",
       "      <td>200</td>\n",
       "      <td>examples/linguistic_case_study/publico.txt.bkp</td>\n",
       "      <td>0</td>\n",
       "      <td>&gt;</td>\n",
       "    </tr>\n",
       "    <tr>\n",
       "      <th>1</th>\n",
       "      <td>0.01</td>\n",
       "      <td>perl</td>\n",
       "      <td>0.01</td>\n",
       "      <td>/home/arthur/Documents/Neuromat/projects/SMC/results/python/ep</td>\n",
       "      <td>None</td>\n",
       "      <td>info</td>\n",
       "      <td>4</td>\n",
       "      <td>bic</td>\n",
       "      <td>0.9</td>\n",
       "      <td>7</td>\n",
       "      <td>400.0</td>\n",
       "      <td>False</td>\n",
       "      <td>4</td>\n",
       "      <td>200</td>\n",
       "      <td>examples/linguistic_case_study/publico.txt.bkp</td>\n",
       "      <td>0</td>\n",
       "      <td>&gt;</td>\n",
       "    </tr>\n",
       "  </tbody>\n",
       "</table>\n",
       "</div>"
      ],
      "text/plain": [
       "   alpha    df  epsilon  \\\n",
       "0   0.01  perl     0.01   \n",
       "1   0.01  perl     0.01   \n",
       "\n",
       "                                                           folder log_file  \\\n",
       "0  /home/arthur/Documents/Neuromat/projects/SMC/results/python/ep     None   \n",
       "1  /home/arthur/Documents/Neuromat/projects/SMC/results/python/ep     None   \n",
       "\n",
       "  log_level  max_depth method  n_sizes  num_cores  penalty_interval  \\\n",
       "0      info          4    bic      0.3          7               0.0   \n",
       "1      info          4    bic      0.9          7             400.0   \n",
       "\n",
       "   perl_compatible renewal_point  resamples  \\\n",
       "0            False             4        200   \n",
       "1            False             4        200   \n",
       "\n",
       "                                      sample_path  scan_offset split  \n",
       "0  examples/linguistic_case_study/publico.txt.bkp            0     >  \n",
       "1  examples/linguistic_case_study/publico.txt.bkp            0     >  "
      ]
     },
     "execution_count": 61,
     "metadata": {},
     "output_type": "execute_result"
    }
   ],
   "source": [
    "pd.DataFrame.from_dict(report.summary['args'])"
   ]
  },
  {
   "cell_type": "code",
   "execution_count": null,
   "metadata": {},
   "outputs": [],
   "source": []
  },
  {
   "cell_type": "code",
   "execution_count": null,
   "metadata": {},
   "outputs": [],
   "source": []
  },
  {
   "cell_type": "code",
   "execution_count": null,
   "metadata": {},
   "outputs": [],
   "source": []
  }
 ],
 "metadata": {
  "kernelspec": {
   "display_name": "Python 3",
   "language": "python",
   "name": "python3"
  },
  "language_info": {
   "codemirror_mode": {
    "name": "ipython",
    "version": 3
   },
   "file_extension": ".py",
   "mimetype": "text/x-python",
   "name": "python",
   "nbconvert_exporter": "python",
   "pygments_lexer": "ipython3",
   "version": "3.8.2"
  }
 },
 "nbformat": 4,
 "nbformat_minor": 4
}
