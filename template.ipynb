{
 "cells": [
  {
   "cell_type": "code",
   "execution_count": 76,
   "metadata": {},
   "outputs": [],
   "source": [
    "folder = '/home/arthur/Documents/Neuromat/projects/SMC/results/python/bp'\n",
    "#folder = '/home/arthur/tmp/smc3_ep'\n",
    "#folder = '/home/arthur/Documents/Neuromat/projects/SMC/results/python_pl_compat/bp'"
   ]
  },
  {
   "cell_type": "code",
   "execution_count": 77,
   "metadata": {},
   "outputs": [
    {
     "name": "stdout",
     "output_type": "stream",
     "text": [
      "Total champion trees:  43 \n",
      "\n"
     ]
    },
    {
     "name": "stderr",
     "output_type": "stream",
     "text": [
      "/home/arthur/Documents/Neuromat/projects/SMC/smallest_maximizer_criterion/g4l/reports/smc.py:98: YAMLLoadWarning: calling yaml.load() without Loader=... is deprecated, as the default Loader is unsafe. Please read https://msg.pyyaml.org/load for full details.\n",
      "  yaml.dump(d, file)\n"
     ]
    }
   ],
   "source": [
    "from g4l.reports.smc import SmcReport\n",
    "import pandas as pd\n",
    "import matplotlib.pyplot as plt\n",
    "pd.set_option('max_colwidth', None)\n",
    "\n",
    "report = SmcReport(folder)\n",
    "report.load_trees()\n",
    "print(\"Total champion trees: \", len(report.champion_trees), '\\n')"
   ]
  },
  {
   "cell_type": "code",
   "execution_count": 78,
   "metadata": {},
   "outputs": [
    {
     "data": {
      "text/html": [
       "<div>\n",
       "<style scoped>\n",
       "    .dataframe tbody tr th:only-of-type {\n",
       "        vertical-align: middle;\n",
       "    }\n",
       "\n",
       "    .dataframe tbody tr th {\n",
       "        vertical-align: top;\n",
       "    }\n",
       "\n",
       "    .dataframe thead th {\n",
       "        text-align: right;\n",
       "    }\n",
       "</style>\n",
       "<table border=\"1\" class=\"dataframe\">\n",
       "  <thead>\n",
       "    <tr style=\"text-align: right;\">\n",
       "      <th></th>\n",
       "      <th>c</th>\n",
       "      <th>ctxs</th>\n",
       "      <th>tree</th>\n",
       "    </tr>\n",
       "  </thead>\n",
       "  <tbody>\n",
       "    <tr>\n",
       "      <th>0</th>\n",
       "      <td>0.000000</td>\n",
       "      <td>8</td>\n",
       "      <td>00 10 20 30 1 2 3 4</td>\n",
       "    </tr>\n",
       "    <tr>\n",
       "      <th>1</th>\n",
       "      <td>0.000048</td>\n",
       "      <td>11</td>\n",
       "      <td>000 100 200 300 10 20 30 1 2 3 4</td>\n",
       "    </tr>\n",
       "    <tr>\n",
       "      <th>2</th>\n",
       "      <td>0.000811</td>\n",
       "      <td>13</td>\n",
       "      <td>000 100 200 300 10 20 30 001 201 21 2 3 4</td>\n",
       "    </tr>\n",
       "    <tr>\n",
       "      <th>3</th>\n",
       "      <td>0.003862</td>\n",
       "      <td>14</td>\n",
       "      <td>000 100 200 300 010 210 20 30 001 201 21 2 3 4</td>\n",
       "    </tr>\n",
       "    <tr>\n",
       "      <th>4</th>\n",
       "      <td>0.004244</td>\n",
       "      <td>15</td>\n",
       "      <td>000 100 200 300 0010 2010 210 20 30 001 201 21 2 3 4</td>\n",
       "    </tr>\n",
       "    <tr>\n",
       "      <th>5</th>\n",
       "      <td>0.005007</td>\n",
       "      <td>16</td>\n",
       "      <td>0000 2000 100 200 300 0010 2010 210 20 30 001 201 21 2 3 4</td>\n",
       "    </tr>\n",
       "    <tr>\n",
       "      <th>6</th>\n",
       "      <td>0.005770</td>\n",
       "      <td>19</td>\n",
       "      <td>0000 2000 100 200 300 0010 2010 210 20 030 130 330 430 001 201 21 2 3 4</td>\n",
       "    </tr>\n",
       "    <tr>\n",
       "      <th>7</th>\n",
       "      <td>0.008821</td>\n",
       "      <td>23</td>\n",
       "      <td>0000 2000 100 200 300 0010 2010 210 0210 1210 3210 4210 20 030 130 330 430 001 201 21 2 3 4</td>\n",
       "    </tr>\n",
       "    <tr>\n",
       "      <th>8</th>\n",
       "      <td>0.009584</td>\n",
       "      <td>26</td>\n",
       "      <td>0000 2000 100 200 300 0010 2010 210 0210 1210 3210 4210 20 030 130 330 430 001 201 21 2 03 13 33 43 4</td>\n",
       "    </tr>\n",
       "    <tr>\n",
       "      <th>9</th>\n",
       "      <td>0.009966</td>\n",
       "      <td>27</td>\n",
       "      <td>0000 2000 100 200 300 0010 2010 210 0210 1210 3210 4210 20 030 130 330 430 0001 2001 201 21 2 03 13 33 43 4</td>\n",
       "    </tr>\n",
       "  </tbody>\n",
       "</table>\n",
       "</div>"
      ],
      "text/plain": [
       "          c ctxs  \\\n",
       "0  0.000000    8   \n",
       "1  0.000048   11   \n",
       "2  0.000811   13   \n",
       "3  0.003862   14   \n",
       "4  0.004244   15   \n",
       "5  0.005007   16   \n",
       "6  0.005770   19   \n",
       "7  0.008821   23   \n",
       "8  0.009584   26   \n",
       "9  0.009966   27   \n",
       "\n",
       "                                                                                                          tree  \n",
       "0                                                                                          00 10 20 30 1 2 3 4  \n",
       "1                                                                             000 100 200 300 10 20 30 1 2 3 4  \n",
       "2                                                                    000 100 200 300 10 20 30 001 201 21 2 3 4  \n",
       "3                                                               000 100 200 300 010 210 20 30 001 201 21 2 3 4  \n",
       "4                                                         000 100 200 300 0010 2010 210 20 30 001 201 21 2 3 4  \n",
       "5                                                   0000 2000 100 200 300 0010 2010 210 20 30 001 201 21 2 3 4  \n",
       "6                                      0000 2000 100 200 300 0010 2010 210 20 030 130 330 430 001 201 21 2 3 4  \n",
       "7                  0000 2000 100 200 300 0010 2010 210 0210 1210 3210 4210 20 030 130 330 430 001 201 21 2 3 4  \n",
       "8        0000 2000 100 200 300 0010 2010 210 0210 1210 3210 4210 20 030 130 330 430 001 201 21 2 03 13 33 43 4  \n",
       "9  0000 2000 100 200 300 0010 2010 210 0210 1210 3210 4210 20 030 130 330 430 0001 2001 201 21 2 03 13 33 43 4  "
      ]
     },
     "execution_count": 78,
     "metadata": {},
     "output_type": "execute_result"
    }
   ],
   "source": [
    "report.trees_dataframe(n=10)"
   ]
  },
  {
   "cell_type": "code",
   "execution_count": 72,
   "metadata": {},
   "outputs": [
    {
     "name": "stdout",
     "output_type": "stream",
     "text": [
      "Optimal tree: 0000 2000 100 200 300 0010 2010 210 20 30 001 201 21 2 3 4\n",
      "Num contexts: 16\n"
     ]
    }
   ],
   "source": [
    "print('Optimal tree:', report.optimal_tree().to_str(reverse=True))\n",
    "print('Num contexts:', report.optimal_tree().num_contexts())"
   ]
  },
  {
   "cell_type": "code",
   "execution_count": 73,
   "metadata": {},
   "outputs": [
    {
     "data": {
      "image/png": "[encoded data removed]",
      "text/plain": [
       "<Figure size 1080x432 with 1 Axes>"
      ]
     },
     "metadata": {},
     "output_type": "display_data"
    }
   ],
   "source": [
    "report.draw_tree(report.optimal_tree(), title=\"Optimal tree\", column='symbol')"
   ]
  },
  {
   "cell_type": "code",
   "execution_count": 74,
   "metadata": {},
   "outputs": [
    {
     "data": {
      "image/png": "[encoded data removed]",
      "text/plain": [
       "<Figure size 1080x288 with 1 Axes>"
      ]
     },
     "metadata": {
      "needs_background": "light"
     },
     "output_type": "display_data"
    }
   ],
   "source": [
    "report.draw_likelihoods()"
   ]
  },
  {
   "cell_type": "code",
   "execution_count": 75,
   "metadata": {},
   "outputs": [],
   "source": [
    "#report.likelihoods_bloxplot()"
   ]
  },
  {
   "cell_type": "code",
   "execution_count": 54,
   "metadata": {},
   "outputs": [
    {
     "data": {
      "text/html": [
       "<div>\n",
       "<style scoped>\n",
       "    .dataframe tbody tr th:only-of-type {\n",
       "        vertical-align: middle;\n",
       "    }\n",
       "\n",
       "    .dataframe tbody tr th {\n",
       "        vertical-align: top;\n",
       "    }\n",
       "\n",
       "    .dataframe thead th {\n",
       "        text-align: right;\n",
       "    }\n",
       "</style>\n",
       "<table border=\"1\" class=\"dataframe\">\n",
       "  <thead>\n",
       "    <tr style=\"text-align: right;\">\n",
       "      <th></th>\n",
       "      <th>alpha</th>\n",
       "      <th>df</th>\n",
       "      <th>epsilon</th>\n",
       "      <th>folder</th>\n",
       "      <th>log_file</th>\n",
       "      <th>log_level</th>\n",
       "      <th>max_depth</th>\n",
       "      <th>method</th>\n",
       "      <th>n_sizes</th>\n",
       "      <th>num_cores</th>\n",
       "      <th>penalty_interval</th>\n",
       "      <th>perl_compatible</th>\n",
       "      <th>renewal_point</th>\n",
       "      <th>resamples</th>\n",
       "      <th>sample_path</th>\n",
       "      <th>scan_offset</th>\n",
       "      <th>split</th>\n",
       "    </tr>\n",
       "  </thead>\n",
       "  <tbody>\n",
       "    <tr>\n",
       "      <th>0</th>\n",
       "      <td>0.01</td>\n",
       "      <td>perl</td>\n",
       "      <td>0.01</td>\n",
       "      <td>/home/arthur/Documents/Neuromat/projects/SMC/results/python_pl_compat/bp</td>\n",
       "      <td>None</td>\n",
       "      <td>info</td>\n",
       "      <td>4</td>\n",
       "      <td>bic</td>\n",
       "      <td>0.3</td>\n",
       "      <td>7</td>\n",
       "      <td>0.0</td>\n",
       "      <td>True</td>\n",
       "      <td>4</td>\n",
       "      <td>200</td>\n",
       "      <td>examples/linguistic_case_study/folha.txt.bkp</td>\n",
       "      <td>0</td>\n",
       "      <td>&gt;</td>\n",
       "    </tr>\n",
       "    <tr>\n",
       "      <th>1</th>\n",
       "      <td>0.01</td>\n",
       "      <td>perl</td>\n",
       "      <td>0.01</td>\n",
       "      <td>/home/arthur/Documents/Neuromat/projects/SMC/results/python_pl_compat/bp</td>\n",
       "      <td>None</td>\n",
       "      <td>info</td>\n",
       "      <td>4</td>\n",
       "      <td>bic</td>\n",
       "      <td>0.9</td>\n",
       "      <td>7</td>\n",
       "      <td>400.0</td>\n",
       "      <td>True</td>\n",
       "      <td>4</td>\n",
       "      <td>200</td>\n",
       "      <td>examples/linguistic_case_study/folha.txt.bkp</td>\n",
       "      <td>0</td>\n",
       "      <td>&gt;</td>\n",
       "    </tr>\n",
       "  </tbody>\n",
       "</table>\n",
       "</div>"
      ],
      "text/plain": [
       "   alpha    df  epsilon  \\\n",
       "0   0.01  perl     0.01   \n",
       "1   0.01  perl     0.01   \n",
       "\n",
       "                                                                     folder  \\\n",
       "0  /home/arthur/Documents/Neuromat/projects/SMC/results/python_pl_compat/bp   \n",
       "1  /home/arthur/Documents/Neuromat/projects/SMC/results/python_pl_compat/bp   \n",
       "\n",
       "  log_file log_level  max_depth method  n_sizes  num_cores  penalty_interval  \\\n",
       "0     None      info          4    bic      0.3          7               0.0   \n",
       "1     None      info          4    bic      0.9          7             400.0   \n",
       "\n",
       "   perl_compatible renewal_point  resamples  \\\n",
       "0             True             4        200   \n",
       "1             True             4        200   \n",
       "\n",
       "                                    sample_path  scan_offset split  \n",
       "0  examples/linguistic_case_study/folha.txt.bkp            0     >  \n",
       "1  examples/linguistic_case_study/folha.txt.bkp            0     >  "
      ]
     },
     "execution_count": 54,
     "metadata": {},
     "output_type": "execute_result"
    }
   ],
   "source": [
    "pd.DataFrame.from_dict(report.summary['args'])"
   ]
  },
  {
   "cell_type": "code",
   "execution_count": null,
   "metadata": {},
   "outputs": [],
   "source": []
  },
  {
   "cell_type": "code",
   "execution_count": null,
   "metadata": {},
   "outputs": [],
   "source": []
  },
  {
   "cell_type": "code",
   "execution_count": null,
   "metadata": {},
   "outputs": [],
   "source": []
  }
 ],
 "metadata": {
  "kernelspec": {
   "display_name": "Python 3",
   "language": "python",
   "name": "python3"
  },
  "language_info": {
   "codemirror_mode": {
    "name": "ipython",
    "version": 3
   },
   "file_extension": ".py",
   "mimetype": "text/x-python",
   "name": "python",
   "nbconvert_exporter": "python",
   "pygments_lexer": "ipython3",
   "version": "3.8.2"
  }
 },
 "nbformat": 4,
 "nbformat_minor": 4
}
